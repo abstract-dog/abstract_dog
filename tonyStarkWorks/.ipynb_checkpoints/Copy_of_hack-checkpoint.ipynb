{
 "cells": [
  {
   "cell_type": "code",
   "execution_count": 1,
   "metadata": {
    "colab": {},
    "colab_type": "code",
    "id": "8HKEObSE4NAA"
   },
   "outputs": [
    {
     "data": {
      "text/plain": [
       "'data_of_noda = {}\\nindex = 0\\n\\ndef find_bondes(corners):\\n    for i in range(1, len(corners)):\\n        \\n\\nfor i in range(1, len(corners)):\\n    data_of_noda[index] ='"
      ]
     },
     "execution_count": 1,
     "metadata": {},
     "output_type": "execute_result"
    }
   ],
   "source": [
    "'''data_of_noda = {}\n",
    "index = 0\n",
    "\n",
    "def find_bondes(corners):\n",
    "    for i in range(1, len(corners)):\n",
    "        \n",
    "\n",
    "for i in range(1, len(corners)):\n",
    "    data_of_noda[index] ='''"
   ]
  },
  {
   "cell_type": "code",
   "execution_count": 2,
   "metadata": {},
   "outputs": [
    {
     "data": {
      "text/plain": [
       "\"import cv2\\nimport numpy as np\\n\\nimage = cv2.imread('3.jpg')\\ngray = cv2.cvtColor(image, cv2.COLOR_BGR2GRAY)\\nthresh = cv2.threshold(gray, 0, 255,cv2.THRESH_BINARY_INV + cv2.THRESH_OTSU)[1]\\n\\nkernel = cv2.getStructuringElement(cv2.MORPH_ELLIPSE, (9,9))\\nclose = cv2.morphologyEx(thresh, cv2.MORPH_CLOSE, kernel, iterations=3)\\n\\nminLineLength = 500\\nmaxLineGap = 70\\nlines = cv2.HoughLinesP(close,1,np.pi/180,80,30,0)\\nfor line in lines:\\n    for x1,y1,x2,y2 in line:\\n        cv2.line(image,(x1,y1),(x2,y2),(36,255,12),3)\\n\\ncv2.imwrite('houghlines5.jpg', image)\""
      ]
     },
     "execution_count": 2,
     "metadata": {},
     "output_type": "execute_result"
    }
   ],
   "source": [
    "'''import cv2\n",
    "import numpy as np\n",
    "\n",
    "image = cv2.imread('3.jpg')\n",
    "gray = cv2.cvtColor(image, cv2.COLOR_BGR2GRAY)\n",
    "thresh = cv2.threshold(gray, 0, 255,cv2.THRESH_BINARY_INV + cv2.THRESH_OTSU)[1]\n",
    "\n",
    "kernel = cv2.getStructuringElement(cv2.MORPH_ELLIPSE, (9,9))\n",
    "close = cv2.morphologyEx(thresh, cv2.MORPH_CLOSE, kernel, iterations=3)\n",
    "\n",
    "minLineLength = 500\n",
    "maxLineGap = 70\n",
    "lines = cv2.HoughLinesP(close,1,np.pi/180,80,30,0)\n",
    "for line in lines:\n",
    "    for x1,y1,x2,y2 in line:\n",
    "        cv2.line(image,(x1,y1),(x2,y2),(36,255,12),3)\n",
    "\n",
    "cv2.imwrite('houghlines5.jpg', image)'''"
   ]
  },
  {
   "cell_type": "markdown",
   "metadata": {
    "colab_type": "text",
    "id": "view-in-github"
   },
   "source": [
    "<a href=\"https://colab.research.google.com/github/Anthonyvol/abstract_dog/blob/issue-1/Copy_of_hack.ipynb\" target=\"_parent\"><img src=\"https://colab.research.google.com/assets/colab-badge.svg\" alt=\"Open In Colab\"/></a>"
   ]
  },
  {
   "cell_type": "code",
   "execution_count": 3,
   "metadata": {
    "colab": {},
    "colab_type": "code",
    "id": "IfvwmqpIiGqb"
   },
   "outputs": [],
   "source": [
    "import cv2\n",
    "import numpy as np\n",
    "from matplotlib import pyplot as plt\n",
    "#from google.colab.patches import cv2_imshow"
   ]
  },
  {
   "cell_type": "code",
   "execution_count": 41,
   "metadata": {
    "colab": {},
    "colab_type": "code",
    "id": "70cXNDv0L5CS"
   },
   "outputs": [],
   "source": [
    "'''\n",
    "It cleans img from noise\n",
    "'''\n",
    "def clear_img(file_name):\n",
    "    img = cv2.imread(file_name, 0)\n",
    "\n",
    "    dilated_img = cv2.dilate(img, np.ones((7,7), np.uint8))\n",
    "    bg_img = cv2.medianBlur(dilated_img, 21)\n",
    "    diff_img = 255 - cv2.absdiff(img, bg_img)\n",
    "    norm_img = diff_img.copy()\n",
    "    cv2.normalize(diff_img, norm_img, alpha=0, beta=255, norm_type=cv2.NORM_MINMAX, dtype=cv2.CV_8UC1)\n",
    "    _, thr_img = cv2.threshold(norm_img, 230, 0, cv2.THRESH_TRUNC)\n",
    "    cv2.normalize(thr_img, thr_img, alpha=0, beta=255, norm_type=cv2.NORM_MINMAX, dtype=cv2.CV_8UC1)\n",
    "    thr_img[thr_img < 240] = 0\n",
    "    cv2.imwrite(\"c_\" + file_name, thr_img)\n",
    "\n",
    "'''\n",
    "It resizes image\n",
    "'''\n",
    "def resize_img(img, scale):\n",
    "    return cv2.resize(img,(img.shape[1] * scale, img.shape[0] * scale))\n",
    "\n",
    "'''\n",
    "Finding edges \n",
    "'''\n",
    "def define_edged(img, min, max):\n",
    "    return cv2.Canny(img, min, max)\n",
    "\n",
    "'''\n",
    "Finding contours\n",
    "'''\n",
    "def get_contours(edged):\n",
    "    return cv2.findContours(edged, cv2.RETR_EXTERNAL, cv2.CHAIN_APPROX_SIMPLE)[-2:]"
   ]
  },
  {
   "cell_type": "code",
   "execution_count": 5,
   "metadata": {
    "colab": {
     "base_uri": "https://localhost:8080/",
     "height": 269
    },
    "colab_type": "code",
    "id": "949NIR91U335",
    "outputId": "ddc6ab7d-fdd7-44e5-9f05-790ee17eea38"
   },
   "outputs": [
    {
     "ename": "TypeError",
     "evalue": "imshow() missing required argument 'mat' (pos 2)",
     "output_type": "error",
     "traceback": [
      "\u001b[1;31m---------------------------------------------------------------------------\u001b[0m",
      "\u001b[1;31mTypeError\u001b[0m                                 Traceback (most recent call last)",
      "\u001b[1;32m<ipython-input-5-6952c2e8ff35>\u001b[0m in \u001b[0;36m<module>\u001b[1;34m\u001b[0m\n\u001b[0;32m      3\u001b[0m \u001b[0mimg\u001b[0m \u001b[1;33m=\u001b[0m \u001b[0mcv2\u001b[0m\u001b[1;33m.\u001b[0m\u001b[0mimread\u001b[0m\u001b[1;33m(\u001b[0m\u001b[1;34m'c_3.jpg'\u001b[0m\u001b[1;33m)\u001b[0m\u001b[1;33m\u001b[0m\u001b[1;33m\u001b[0m\u001b[0m\n\u001b[0;32m      4\u001b[0m \u001b[1;33m\u001b[0m\u001b[0m\n\u001b[1;32m----> 5\u001b[1;33m \u001b[0mcv2\u001b[0m\u001b[1;33m.\u001b[0m\u001b[0mimshow\u001b[0m\u001b[1;33m(\u001b[0m\u001b[0mimg\u001b[0m\u001b[1;33m)\u001b[0m\u001b[1;33m,\u001b[0m \u001b[0mplt\u001b[0m\u001b[1;33m.\u001b[0m\u001b[0mshow\u001b[0m\u001b[1;33m(\u001b[0m\u001b[1;33m)\u001b[0m\u001b[1;33m\u001b[0m\u001b[1;33m\u001b[0m\u001b[0m\n\u001b[0m\u001b[0;32m      6\u001b[0m \u001b[0mcv2\u001b[0m\u001b[1;33m.\u001b[0m\u001b[0mimsave\u001b[0m\u001b[1;33m(\u001b[0m\u001b[1;34m'big.jpg'\u001b[0m\u001b[1;33m,\u001b[0m \u001b[0mresize_img\u001b[0m\u001b[1;33m(\u001b[0m\u001b[0mimg\u001b[0m\u001b[1;33m,\u001b[0m \u001b[1;36m3\u001b[0m\u001b[1;33m)\u001b[0m\u001b[1;33m)\u001b[0m\u001b[1;33m\u001b[0m\u001b[1;33m\u001b[0m\u001b[0m\n",
      "\u001b[1;31mTypeError\u001b[0m: imshow() missing required argument 'mat' (pos 2)"
     ]
    }
   ],
   "source": [
    "clear_img(\"3.jpg\")\n",
    "\n",
    "img = cv2.imread('c_3.jpg')\n",
    "\n",
    "cv2.imshow(img), plt.show()\n",
    "cv2.imsave('big.jpg', resize_img(img, 3))"
   ]
  },
  {
   "cell_type": "code",
   "execution_count": 17,
   "metadata": {
    "colab": {
     "base_uri": "https://localhost:8080/",
     "height": 269
    },
    "colab_type": "code",
    "id": "1ozYbskdzYZI",
    "outputId": "10da7940-95c3-4ee8-c112-cdc610a37485"
   },
   "outputs": [
    {
     "ename": "NameError",
     "evalue": "name 'define_edged' is not defined",
     "output_type": "error",
     "traceback": [
      "\u001b[1;31m---------------------------------------------------------------------------\u001b[0m",
      "\u001b[1;31mNameError\u001b[0m                                 Traceback (most recent call last)",
      "\u001b[1;32m<ipython-input-17-14c5101ae38d>\u001b[0m in \u001b[0;36m<module>\u001b[1;34m\u001b[0m\n\u001b[0;32m      1\u001b[0m \u001b[0mimage\u001b[0m \u001b[1;33m=\u001b[0m \u001b[0mcv2\u001b[0m\u001b[1;33m.\u001b[0m\u001b[0mimread\u001b[0m\u001b[1;33m(\u001b[0m\u001b[1;34m'3.jpg'\u001b[0m\u001b[1;33m)\u001b[0m\u001b[1;33m\u001b[0m\u001b[1;33m\u001b[0m\u001b[0m\n\u001b[0;32m      2\u001b[0m \u001b[1;33m\u001b[0m\u001b[0m\n\u001b[1;32m----> 3\u001b[1;33m \u001b[0medged\u001b[0m \u001b[1;33m=\u001b[0m \u001b[0mdefine_edged\u001b[0m\u001b[1;33m(\u001b[0m\u001b[0mimage\u001b[0m\u001b[1;33m,\u001b[0m \u001b[1;36m30\u001b[0m\u001b[1;33m,\u001b[0m \u001b[1;36m200\u001b[0m\u001b[1;33m)\u001b[0m\u001b[1;33m\u001b[0m\u001b[1;33m\u001b[0m\u001b[0m\n\u001b[0m\u001b[0;32m      4\u001b[0m \u001b[0mcontours\u001b[0m\u001b[1;33m,\u001b[0m \u001b[0mhierarchy\u001b[0m \u001b[1;33m=\u001b[0m \u001b[0mget_contours\u001b[0m\u001b[1;33m(\u001b[0m\u001b[0medged\u001b[0m\u001b[1;33m)\u001b[0m\u001b[1;33m\u001b[0m\u001b[1;33m\u001b[0m\u001b[0m\n\u001b[0;32m      5\u001b[0m \u001b[1;33m\u001b[0m\u001b[0m\n",
      "\u001b[1;31mNameError\u001b[0m: name 'define_edged' is not defined"
     ]
    }
   ],
   "source": [
    "image = cv2.imread('3.jpg')\n",
    "\n",
    "edged = define_edged(image, 30, 200)\n",
    "contours, hierarchy = get_contours(edged)\n",
    "\n",
    "image[::] = 255\n",
    "cv2.drawContours(image, contours, -1, (0, 255, 0), 3) \n",
    "\n",
    "plt.imshow(image)\n",
    "plt.show()"
   ]
  },
  {
   "cell_type": "code",
   "execution_count": 53,
   "metadata": {
    "colab": {
     "base_uri": "https://localhost:8080/",
     "height": 286
    },
    "colab_type": "code",
    "id": "852aGO_G2qa9",
    "outputId": "d15329c4-b1fe-4c0f-80c9-455b461aee75"
   },
   "outputs": [
    {
     "data": {
      "image/png": "[encoded data removed]",
      "text/plain": [
       "<Figure size 432x288 with 1 Axes>"
      ]
     },
     "metadata": {
      "needs_background": "light"
     },
     "output_type": "display_data"
    },
    {
     "data": {
      "text/plain": [
       "<matplotlib.image.AxesImage at 0x218b6987630>"
      ]
     },
     "execution_count": 53,
     "metadata": {},
     "output_type": "execute_result"
    },
    {
     "data": {
      "image/png": "[encoded data removed]",
      "text/plain": [
       "<Figure size 432x288 with 1 Axes>"
      ]
     },
     "metadata": {
      "needs_background": "light"
     },
     "output_type": "display_data"
    }
   ],
   "source": [
    "import cv2\n",
    "import numpy as np\n",
    "#from google.colab.patches import cv2_imshow\n",
    "from matplotlib import pyplot as plt\n",
    "from math import sqrt\n",
    "\n",
    "image = cv2.imread('3.jpg')\n",
    "\n",
    "edged = define_edged(image, 30, 200)\n",
    "contours, hierarchy = get_contours(edged)\n",
    "\n",
    "#image[::] = 255\n",
    "cv2.drawContours(image, contours, -1, (255, 0, 0), 3) \n",
    "\n",
    "plt.imshow(image)\n",
    "plt.show()\n",
    "\n",
    "cv2.imwrite('test.jpg', img)\n",
    "\n",
    "\n",
    "img = cv2.imread('3.jpg')\n",
    "img = image\n",
    "gray = cv2.cvtColor(img, cv2.COLOR_BGR2GRAY)\n",
    "gray = np.float32(gray)\n",
    "dst = cv2.cornerHarris(gray, 30, 3, 0.04)\n",
    "ret, dst = cv2.threshold(dst, 0.1*dst.max(), 255, 0)\n",
    "dst = np.uint8(dst)\n",
    "ret, labels, stats, centroids = cv2.connectedComponentsWithStats(dst)\n",
    "criteria = (cv2.TERM_CRITERIA_EPS + cv2.TERM_CRITERIA_MAX_ITER, 100, 0.001)\n",
    "corners = cv2.cornerSubPix(gray, np.float32(centroids), (10,10), (-1,-1), criteria)\n",
    "\n",
    "\n",
    "#for i in range(1, len(corners)):\n",
    "    #print(corners[i])\n",
    "#img[dst>0.1*dst.max()]=[0,0,255]\n",
    "\n",
    "for i in range(1, len(corners)):\n",
    "    #print(corners[1])\n",
    "    #distanse = sqrt((corners[i, 0] - corners[i-1, 0])**2 + (corners[i, 1] - corners[i-1, 1])**2)\n",
    "    #if distanse > 70.0:\n",
    "    cv2.circle(img, (int(corners[i, 0]), int(corners[i, 1])), 20, (0,255,0), 3)\n",
    "\n",
    "dx = np.abs((corners[4][0] - corners[7][0]) / 10)\n",
    "dy = np.abs((corners[4][1] - corners[7][1]) / 10)\n",
    "signx = 1\n",
    "signy = 1\n",
    "if corners[4][0] > corners[7][0]:\n",
    "    signx = -1\n",
    "if corners[4][1] > corners[7][1]:\n",
    "    signy = -1\n",
    "'''for i in range(9):\n",
    "    print(img[int(corners[3][0] + dx * i * signx)][int(corners[3][1] + dy * signy * i)])\n",
    "    cv2.line(img, (int(corners[3][0] + dx * i * signx), int(corners[3][1] + dy * signy * i)), 20, (0,255,0), 3)'''\n",
    "cv2.line(img, (int(corners[4][0] + dx * 0 * signx), int(corners[4][1] + dy * signy * 1)), (int(corners[4][0] + dx * 8 * signx), int(corners[4][1] + dy * signy * 8)), (0,255,0),2)\n",
    "#cv2.circle()\n",
    "#cv2.circle(img, (int(corners[18, 0]), int(corners[18, 1])), 20, (0,255,0), 3)\n",
    "#cv2.circle(img, (int(corners[35, 0]), int(corners[35, 1])), 20, (0,255,0), 3)\n",
    "plt.imshow(img)\n",
    "#cv2.waitKey(0)\n",
    "#cv2.destroyAllWindows"
   ]
  },
  {
   "cell_type": "code",
   "execution_count": 42,
   "metadata": {},
   "outputs": [
    {
     "data": {
      "image/png": "[encoded data removed]",
      "text/plain": [
       "<Figure size 432x288 with 1 Axes>"
      ]
     },
     "metadata": {
      "needs_background": "light"
     },
     "output_type": "display_data"
    }
   ],
   "source": [
    "image = cv2.imread('3.jpg')\n",
    "\n",
    "edged = define_edged(image, 30, 200)\n",
    "contours, hierarchy = get_contours(edged)\n",
    "\n",
    "image[::] = 255\n",
    "cv2.drawContours(image, contours, -1, (0, 255, 0), 3) \n",
    "\n",
    "plt.imshow(image)\n",
    "plt.show()"
   ]
  },
  {
   "cell_type": "code",
   "execution_count": 57,
   "metadata": {},
   "outputs": [
    {
     "name": "stdout",
     "output_type": "stream",
     "text": [
      "{0: {}, 1: {}, 2: {}, 3: {}, 4: {}, 5: {}, 6: {}, 7: {}, 8: {}, 9: {}, 10: {}, 11: {}, 12: {15: 1}, 13: {}, 14: {}, 15: {}, 16: {}, 17: {}, 18: {}, 19: {}, 20: {}, 21: {}, 22: {}, 23: {}, 24: {}, 25: {}, 26: {}, 27: {}, 28: {}, 29: {}, 30: {}, 31: {}, 32: {}, 33: {}, 34: {}, 35: {}, 36: {}, 37: {}, 38: {}, 39: {}, 40: {}, 41: {42: 1}, 42: {}, 43: {44: 1}, 44: {}, 45: {}, 46: {}}\n"
     ]
    },
    {
     "data": {
      "text/plain": [
       "<matplotlib.image.AxesImage at 0x218bd603470>"
      ]
     },
     "execution_count": 57,
     "metadata": {},
     "output_type": "execute_result"
    },
    {
     "data": {
      "image/png": "[encoded data removed]",
      "text/plain": [
       "<Figure size 432x288 with 1 Axes>"
      ]
     },
     "metadata": {
      "needs_background": "light"
     },
     "output_type": "display_data"
    }
   ],
   "source": [
    "img = cv2.imread('test.jpg', 0)\n",
    "res = {}\n",
    "flag = 0\n",
    "deltax = 0\n",
    "deltay = 0\n",
    "signx = 1\n",
    "signy = 1\n",
    "i = 0\n",
    "j = 0\n",
    "\n",
    "for c in corners:\n",
    "    if c[0] > img.shape[0] or c[1] > img.shape[1]:\n",
    "        continue\n",
    "    j = i + 1\n",
    "    res[i] = dict()\n",
    "    signx = 1\n",
    "    signy = 1\n",
    "    for c2 in corners[i + 1:]:\n",
    "        if c2[0] > img.shape[0] or c2[1] > img.shape[1]:\n",
    "            continue\n",
    "        deltax = np.abs((c[0] - c2[0]) / 10)\n",
    "        deltay = np.abs((c[1] - c2[1]) / 10)\n",
    "        if (c[0] > c2[0]):\n",
    "            signx = -1\n",
    "        if (c[1] > c2[1]):\n",
    "            signy = -1\n",
    "        flag = 0\n",
    "        for k in range(1, 7):\n",
    "            if i == 1 and j == 1:\n",
    "                cv2.circle(img, (int(c[0] + k * deltax * signx), int(c[1] + k * deltay * signy)), 20, (0,0,255), 3)\n",
    "            if img[int(c[0] + k * deltax * signx)][int(c[1] + k * deltay * signy)] != 255:\n",
    "                flag = 1\n",
    "            else:\n",
    "                flag = 0\n",
    "                break\n",
    "        if flag == 1:\n",
    "            res[i][j] = 1\n",
    "        j += 1\n",
    "    i += 1\n",
    "        \n",
    "print(res)\n",
    "plt.imshow(img)\n"
   ]
  },
  {
   "cell_type": "code",
   "execution_count": null,
   "metadata": {},
   "outputs": [],
   "source": []
  },
  {
   "cell_type": "code",
   "execution_count": null,
   "metadata": {},
   "outputs": [],
   "source": []
  },
  {
   "cell_type": "code",
   "execution_count": null,
   "metadata": {},
   "outputs": [],
   "source": []
  }
 ],
 "metadata": {
  "colab": {
   "collapsed_sections": [],
   "include_colab_link": true,
   "name": "Copy of hack",
   "provenance": []
  },
  "kernelspec": {
   "display_name": "Python 3",
   "language": "python",
   "name": "python3"
  },
  "language_info": {
   "codemirror_mode": {
    "name": "ipython",
    "version": 3
   },
   "file_extension": ".py",
   "mimetype": "text/x-python",
   "name": "python",
   "nbconvert_exporter": "python",
   "pygments_lexer": "ipython3",
   "version": "3.7.3"
  }
 },
 "nbformat": 4,
 "nbformat_minor": 1
}
