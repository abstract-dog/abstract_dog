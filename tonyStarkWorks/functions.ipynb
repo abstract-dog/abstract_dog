{
  "nbformat": 4,
  "nbformat_minor": 0,
  "metadata": {
    "colab": {
      "name": "functions",
      "provenance": [],
      "collapsed_sections": [],
      "include_colab_link": true
    },
    "kernelspec": {
      "name": "python3",
      "display_name": "Python 3"
    }
  },
  "cells": [
    {
      "cell_type": "markdown",
      "metadata": {
        "id": "view-in-github",
        "colab_type": "text"
      },
      "source": [
        "<a href=\"https://colab.research.google.com/github/evro23x/abstract_dog/blob/cv/functions.ipynb\" target=\"_parent\"><img src=\"https://colab.research.google.com/assets/colab-badge.svg\" alt=\"Open In Colab\"/></a>"
      ]
    },
    {
      "cell_type": "markdown",
      "metadata": {
        "id": "aBJUjk-cuoPx",
        "colab_type": "text"
      },
      "source": [
        "# **abstract_dog: обработка фотографии молекулы** #\n",
        "\n",
        "### Если у вас что-то не работает, то скорее всего вы не загрузили фотографию в файлы "
      ]
    },
    {
      "cell_type": "code",
      "metadata": {
        "id": "IfvwmqpIiGqb",
        "colab_type": "code",
        "colab": {}
      },
      "source": [
        "import cv2\n",
        "import numpy as np\n",
        "from matplotlib import pyplot as plt\n",
        "from google.colab.patches import cv2_imshow"
      ],
      "execution_count": 0,
      "outputs": []
    },
    {
      "cell_type": "markdown",
      "metadata": {
        "id": "IsUD9aBXvPQf",
        "colab_type": "text"
      },
      "source": [
        "## **Функции для работы с изображениями** ##"
      ]
    },
    {
      "cell_type": "markdown",
      "metadata": {
        "id": "0oqRxA8nvcFg",
        "colab_type": "text"
      },
      "source": [
        "### **Очищение картинки от шума:** \n",
        "\n",
        "На вход получаем имя изображения, которое нужно очистить\n",
        "\n",
        "1.   Используем медианный фильтр для уменьшения уровня шума\n",
        "2.   Нормализуем цвета в изображении\n",
        "3. Применяем пороговую функцию, чтобы оставить только белые и черные цвета\n",
        "4. Сохраняем в файл с названием \"c_\" + filename\n",
        "\n",
        "Результат работы: изображение с названием \"c_\" + filename\n"
      ]
    },
    {
      "cell_type": "code",
      "metadata": {
        "id": "70cXNDv0L5CS",
        "colab_type": "code",
        "colab": {}
      },
      "source": [
        "'''\n",
        "It cleans img from noise\n",
        "'''\n",
        "def clear_img(file_name):\n",
        "  img = cv2.imread(file_name, 0)\n",
        "\n",
        "  dilated_img = cv2.dilate(img, np.ones((7,7), np.uint8))\n",
        "  bg_img = cv2.medianBlur(dilated_img, 1)\n",
        "  diff_img = 255 - cv2.absdiff(img, bg_img)\n",
        "  norm_img = diff_img.copy()\n",
        "  cv2.normalize(diff_img, norm_img, alpha=0, beta=255, norm_type=cv2.NORM_MINMAX, dtype=cv2.CV_8UC1)\n",
        "  _, thr_img = cv2.threshold(norm_img, 230, 0, cv2.THRESH_TRUNC)\n",
        "  cv2.normalize(thr_img, thr_img, alpha=0, beta=255, norm_type=cv2.NORM_MINMAX, dtype=cv2.CV_8UC1)\n",
        "  thr_img[thr_img < 240] = 0\n",
        "  cv2.imwrite(\"c_\" + file_name, thr_img)"
      ],
      "execution_count": 0,
      "outputs": []
    },
    {
      "cell_type": "code",
      "metadata": {
        "id": "949NIR91U335",
        "colab_type": "code",
        "outputId": "a1781477-e8fd-4481-efbb-0b28c60f4104",
        "colab": {
          "base_uri": "https://localhost:8080/",
          "height": 269
        }
      },
      "source": [
        "clear_img(\"test.jpg\")\n",
        "\n",
        "img = cv2.imread('c_test.jpg')\n",
        "\n",
        "plt.imshow(img), plt.show()\n",
        "plt.imsave('big111.jpg', resize_img(img, 1))"
      ],
      "execution_count": 9,
      "outputs": [
        {
          "output_type": "display_data",
          "data": {
            "image/png": "[encoded data removed]",
            "text/plain": [
              "<Figure size 432x288 with 1 Axes>"
            ]
          },
          "metadata": {
            "tags": []
          }
        }
      ]
    },
    {
      "cell_type": "markdown",
      "metadata": {
        "id": "9ixKHBWYwRKT",
        "colab_type": "text"
      },
      "source": [
        "### **Изменение размера изображения:** \n",
        "\n",
        "На вход получаем:\n",
        "\n",
        "*   Изображение\n",
        "*   Во сколько раз нужно увеличить или уменьшить изображение\n",
        "\n",
        "Результат работы: сохраненное изображение с названием big\n",
        "\n"
      ]
    },
    {
      "cell_type": "code",
      "metadata": {
        "id": "Sw4UdiIfxIyL",
        "colab_type": "code",
        "colab": {}
      },
      "source": [
        "def resize_img(img, scale):\n",
        "  return cv2.resize(img,((int)(img.shape[1] * scale), int(img.shape[0] * scale)))"
      ],
      "execution_count": 0,
      "outputs": []
    },
    {
      "cell_type": "markdown",
      "metadata": {
        "id": "a6VJKM4AxfL_",
        "colab_type": "text"
      },
      "source": [
        "### **Поиск вершин с помощью детектора Канни:** \n",
        "\n",
        "На вход получаем:\n",
        "\n",
        "*   Изображение\n",
        "*   Промежуток цветов, который мы будем учитывать [min, max]\n",
        "\n",
        "Результат работы: на выходе массив вершин\n",
        "\n"
      ]
    },
    {
      "cell_type": "code",
      "metadata": {
        "id": "OCQgYf47xYwD",
        "colab_type": "code",
        "colab": {}
      },
      "source": [
        "def define_edged(img, min, max):\n",
        "  return cv2.Canny(img, min, max)"
      ],
      "execution_count": 0,
      "outputs": []
    },
    {
      "cell_type": "code",
      "metadata": {
        "id": "852aGO_G2qa9",
        "colab_type": "code",
        "outputId": "2d82fbe8-5dfe-446a-94eb-4aef257dba78",
        "colab": {
          "base_uri": "https://localhost:8080/",
          "height": 286
        }
      },
      "source": [
        "import cv2\n",
        "import numpy as np\n",
        "from google.colab.patches import cv2_imshow\n",
        "from matplotlib import pyplot as plt\n",
        "\n",
        "\n",
        "img = resize_img(cv2.imread('4.jpg'), 0.3)\n",
        "gray = cv2.cvtColor(img, cv2.COLOR_BGR2GRAY)\n",
        "gray = np.float32(gray)\n",
        "dst = cv2.cornerHarris(gray, 30, 3, 0.04)\n",
        "ret, dst = cv2.threshold(dst, 0.1*dst.max(), 255, 0)\n",
        "dst = np.uint8(dst)\n",
        "ret, labels, stats, centroids = cv2.connectedComponentsWithStats(dst)\n",
        "criteria = (cv2.TERM_CRITERIA_EPS + cv2.TERM_CRITERIA_MAX_ITER, 100, 0.001)\n",
        "corners = cv2.cornerSubPix(gray, np.float32(centroids), (5,5), (-1,-1), criteria)\n",
        "\n",
        "for i in range(1, len(corners)):\n",
        "    cv2.circle(img, (int(corners[i,0]), int(corners[i,1])), 30, (0,255,0), 4)\n",
        "plt.imshow(img)\n",
        "cv2.waitKey(0)"
      ],
      "execution_count": 14,
      "outputs": [
        {
          "output_type": "execute_result",
          "data": {
            "text/plain": [
              "-1"
            ]
          },
          "metadata": {
            "tags": []
          },
          "execution_count": 14
        },
        {
          "output_type": "display_data",
          "data": {
            "image/png": "[encoded data removed]",
            "text/plain": [
              "<Figure size 432x288 with 1 Axes>"
            ]
          },
          "metadata": {
            "tags": []
          }
        }
      ]
    },
    {
      "cell_type": "markdown",
      "metadata": {
        "id": "QqpqlWALymHq",
        "colab_type": "text"
      },
      "source": [
        "### **Поиск контуров:** \n",
        "\n",
        "На вход получаем:\n",
        "\n",
        "*   Массив вершин\n",
        "\n",
        "Результат работы: массив со всеми координатами полученного контура"
      ]
    },
    {
      "cell_type": "code",
      "metadata": {
        "id": "sAYO0iFGyfSb",
        "colab_type": "code",
        "colab": {}
      },
      "source": [
        "def get_contours(edged):\n",
        "  return cv2.findContours(edged, cv2.RETR_EXTERNAL, cv2.CHAIN_APPROX_SIMPLE)[-2:]"
      ],
      "execution_count": 0,
      "outputs": []
    },
    {
      "cell_type": "code",
      "metadata": {
        "id": "1ozYbskdzYZI",
        "colab_type": "code",
        "outputId": "0e751df6-65e0-4d52-e957-7af454fbf328",
        "colab": {
          "base_uri": "https://localhost:8080/",
          "height": 269
        }
      },
      "source": [
        "image = resize_img(cv2.imread('4.jpg'), 0.3)\n",
        "\n",
        "edged = define_edged(image, 30, 200)\n",
        "contours, hierarchy = get_contours(edged)\n",
        "\n",
        "image[::] = 255\n",
        "cv2.drawContours(image, contours, -1, (0, 255, 0), 3) \n",
        "\n",
        "plt.imshow(image)\n",
        "plt.show()"
      ],
      "execution_count": 17,
      "outputs": [
        {
          "output_type": "display_data",
          "data": {
            "image/png": "[encoded data removed]",
            "text/plain": [
              "<Figure size 432x288 with 1 Axes>"
            ]
          },
          "metadata": {
            "tags": []
          }
        }
      ]
    },
    {
      "cell_type": "markdown",
      "metadata": {
        "id": "9YrwJaPe7UiQ",
        "colab_type": "text"
      },
      "source": [
        "### **Поиск букв:** \n",
        "\n",
        "1.   Чтобы найти буквы нам нужна фотография каждой буквы\n",
        "2.   В цикле с помощью функции cv2.matchTemplate определяем координаты буквы на картике (если эта буква там есть)\n",
        "\n"
      ]
    },
    {
      "cell_type": "code",
      "metadata": {
        "id": "tC6tuFmN751M",
        "colab_type": "code",
        "colab": {
          "base_uri": "https://localhost:8080/",
          "height": 34
        },
        "outputId": "1ba48b89-5c9f-4ad8-877f-595314493910"
      },
      "source": [
        "import cv2\n",
        "import numpy as np\n",
        "from matplotlib import pyplot as plt\n",
        "\n",
        "\n",
        "\n",
        "img_rgb = resize_img(cv2.imread('6.jpg'), 1)\n",
        "img_gray = cv2.cvtColor(img_rgb, cv2.COLOR_BGR2GRAY)\n",
        "template = cv2.imread('OH.jpg',0)\n",
        "w, h = template.shape[::-1]\n",
        "\n",
        "res = cv2.matchTemplate(img_gray, template, cv2.TM_CCOEFF_NORMED)\n",
        "threshold = 0.8\n",
        "loc = np.where( res >= threshold)\n",
        "for pt in zip(*loc[::-1]):\n",
        "    cv2.rectangle(img_rgb, pt, (pt[0] + w, pt[1] + h), (0,0,255), 2)\n",
        "\n",
        "cv2.imwrite('res.png',img_rgb)"
      ],
      "execution_count": 33,
      "outputs": [
        {
          "output_type": "execute_result",
          "data": {
            "text/plain": [
              "True"
            ]
          },
          "metadata": {
            "tags": []
          },
          "execution_count": 33
        }
      ]
    },
    {
      "cell_type": "code",
      "metadata": {
        "id": "0kxoj0_sMnCF",
        "colab_type": "code",
        "colab": {
          "base_uri": "https://localhost:8080/",
          "height": 84
        },
        "outputId": "127ce85f-a038-433b-ca1a-f1d0a7862309"
      },
      "source": [
        "matches = ['o.jpg', 'CH3.jpg', 'F.jpg', 'CL.jpg', 'OH.jpg', 'O.jpg', 'O_.jpg', '_O.jpg', 'H3C.jpg', 'N_1.PNG']\n",
        "\n",
        "cord_forml = {}\n",
        "img_rgb = resize_img(cv2.imread('6.jpg'), 1)\n",
        "for match in matches:\n",
        "    template = cv2.imread(match, 0)\n",
        "    w, h = template.shape[::-1]\n",
        "\n",
        "    res = cv2.matchTemplate(img_gray, template, cv2.TM_CCOEFF_NORMED)\n",
        "    threshold = 0.8\n",
        "    loc = np.where( res >= threshold)\n",
        "    i = 0\n",
        "    for pt in zip(*loc[::-1]):\n",
        "        cv2.rectangle(img_rgb, pt, (pt[0] + w, pt[1] + h), (0,0,255), 2)\n",
        "        cord_forml[match.replace('.jpg', '')] = [pt[0], pt[1]]\n",
        "        i += 1\n",
        "        \n",
        "cv2.imwrite('res.png',img_rgb)\n",
        "for k, v in cord_forml.items():\n",
        "    print(str(k) + ':' + str(v))"
      ],
      "execution_count": 34,
      "outputs": [
        {
          "output_type": "stream",
          "text": [
            "o:[5696, 1226]\n",
            "CL:[2007, 6163]\n",
            "OH:[3039, 5063]\n",
            "H3C:[3730, 2303]\n"
          ],
          "name": "stdout"
        }
      ]
    },
    {
      "cell_type": "code",
      "metadata": {
        "id": "D5K83OE9MrTX",
        "colab_type": "code",
        "colab": {
          "base_uri": "https://localhost:8080/",
          "height": 286
        },
        "outputId": "a136b5cc-cc62-46c3-9dd1-f930825be038"
      },
      "source": [
        "img10 = cv2.imread('res.png')\n",
        "\n",
        "plt.imshow(img10)"
      ],
      "execution_count": 35,
      "outputs": [
        {
          "output_type": "execute_result",
          "data": {
            "text/plain": [
              "<matplotlib.image.AxesImage at 0x7f6dadfc4240>"
            ]
          },
          "metadata": {
            "tags": []
          },
          "execution_count": 35
        },
        {
          "output_type": "display_data",
          "data": {
            "image/png": "[encoded data removed]",
            "text/plain": [
              "<Figure size 432x288 with 1 Axes>"
            ]
          },
          "metadata": {
            "tags": []
          }
        }
      ]
    }
  ]
}