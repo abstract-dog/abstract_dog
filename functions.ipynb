{
  "nbformat": 4,
  "nbformat_minor": 0,
  "metadata": {
    "colab": {
      "name": "functions",
      "provenance": [],
      "collapsed_sections": [],
      "include_colab_link": true
    },
    "kernelspec": {
      "name": "python3",
      "display_name": "Python 3"
    }
  },
  "cells": [
    {
      "cell_type": "markdown",
      "metadata": {
        "id": "view-in-github",
        "colab_type": "text"
      },
      "source": [
        "<a href=\"https://colab.research.google.com/github/evro23x/abstract_dog/blob/cv/functions.ipynb\" target=\"_parent\"><img src=\"https://colab.research.google.com/assets/colab-badge.svg\" alt=\"Open In Colab\"/></a>"
      ]
    },
    {
      "cell_type": "markdown",
      "metadata": {
        "id": "aBJUjk-cuoPx",
        "colab_type": "text"
      },
      "source": [
        "# **abstract_dog: обработка фотографии молекулы** #\n",
        "\n",
        "### Если у вас что-то не работает, то скорее всего вы не загрузили фотографию в файлы "
      ]
    },
    {
      "cell_type": "code",
      "metadata": {
        "id": "IfvwmqpIiGqb",
        "colab_type": "code",
        "colab": {}
      },
      "source": [
        "import cv2\n",
        "import numpy as np\n",
        "from matplotlib import pyplot as plt\n",
        "from google.colab.patches import cv2_imshow"
      ],
      "execution_count": 0,
      "outputs": []
    },
    {
      "cell_type": "markdown",
      "metadata": {
        "id": "IsUD9aBXvPQf",
        "colab_type": "text"
      },
      "source": [
        "## **Функции для работы с изображениями** ##"
      ]
    },
    {
      "cell_type": "markdown",
      "metadata": {
        "id": "0oqRxA8nvcFg",
        "colab_type": "text"
      },
      "source": [
        "### **Очищение картинки от шума:** \n",
        "\n",
        "На вход получаем имя изображения, которое нужно очистить\n",
        "\n",
        "1.   Используем медианный фильтр для уменьшения уровня шума\n",
        "2.   Нормализуем цвета в изображении\n",
        "3. Применяем пороговую функцию, чтобы оставить только белые и черные цвета\n",
        "4. Сохраняем в файл с названием \"c_\" + filename\n",
        "\n",
        "Результат работы: изображение с названием \"c_\" + filename\n"
      ]
    },
    {
      "cell_type": "code",
      "metadata": {
        "id": "70cXNDv0L5CS",
        "colab_type": "code",
        "colab": {}
      },
      "source": [
        "'''\n",
        "It cleans img from noise\n",
        "'''\n",
        "def clear_img(file_name):\n",
        "  img = cv2.imread(file_name, 0)\n",
        "\n",
        "  dilated_img = cv2.dilate(img, np.ones((7,7), np.uint8))\n",
        "  bg_img = cv2.medianBlur(dilated_img, 21)\n",
        "  diff_img = 255 - cv2.absdiff(img, bg_img)\n",
        "  norm_img = diff_img.copy()\n",
        "  cv2.normalize(diff_img, norm_img, alpha=0, beta=255, norm_type=cv2.NORM_MINMAX, dtype=cv2.CV_8UC1)\n",
        "  _, thr_img = cv2.threshold(norm_img, 230, 0, cv2.THRESH_TRUNC)\n",
        "  cv2.normalize(thr_img, thr_img, alpha=0, beta=255, norm_type=cv2.NORM_MINMAX, dtype=cv2.CV_8UC1)\n",
        "  thr_img[thr_img < 240] = 0\n",
        "  cv2.imwrite(\"c_\" + file_name, thr_img)"
      ],
      "execution_count": 0,
      "outputs": []
    },
    {
      "cell_type": "code",
      "metadata": {
        "id": "949NIR91U335",
        "colab_type": "code",
        "outputId": "ddc6ab7d-fdd7-44e5-9f05-790ee17eea38",
        "colab": {
          "base_uri": "https://localhost:8080/",
          "height": 269
        }
      },
      "source": [
        "clear_img(\"1.jpg\")\n",
        "\n",
        "img = cv2.imread('c_1.jpg')\n",
        "\n",
        "plt.imshow(img), plt.show()\n",
        "plt.imsave('big.jpg', resize_img(img, 3))"
      ],
      "execution_count": 0,
      "outputs": [
        {
          "output_type": "display_data",
          "data": {
            "image/png": "[encoded data removed]",
            "text/plain": [
              "<Figure size 432x288 with 1 Axes>"
            ]
          },
          "metadata": {
            "tags": []
          }
        }
      ]
    },
    {
      "cell_type": "markdown",
      "metadata": {
        "id": "9ixKHBWYwRKT",
        "colab_type": "text"
      },
      "source": [
        "### **Изменение размера изображения:** \n",
        "\n",
        "На вход получаем:\n",
        "\n",
        "*   Изображение\n",
        "*   Во сколько раз нужно увеличить или уменьшить изображение\n",
        "\n",
        "Результат работы: сохраненное изображение с названием big\n",
        "\n"
      ]
    },
    {
      "cell_type": "code",
      "metadata": {
        "id": "Sw4UdiIfxIyL",
        "colab_type": "code",
        "colab": {}
      },
      "source": [
        "def resize_img(img, scale):\n",
        "  return cv2.resize(img,(img.shape[1] * scale, img.shape[0] * scale))"
      ],
      "execution_count": 0,
      "outputs": []
    },
    {
      "cell_type": "markdown",
      "metadata": {
        "id": "a6VJKM4AxfL_",
        "colab_type": "text"
      },
      "source": [
        "### **Поиск вершин с помощью детектора Канни:** \n",
        "\n",
        "На вход получаем:\n",
        "\n",
        "*   Изображение\n",
        "*   Промежуток цветов, который мы будем учитывать [min, max]\n",
        "\n",
        "Результат работы: на выходе массив вершин\n",
        "\n"
      ]
    },
    {
      "cell_type": "code",
      "metadata": {
        "id": "OCQgYf47xYwD",
        "colab_type": "code",
        "colab": {}
      },
      "source": [
        "def define_edged(img, min, max):\n",
        "  return cv2.Canny(img, min, max)"
      ],
      "execution_count": 0,
      "outputs": []
    },
    {
      "cell_type": "markdown",
      "metadata": {
        "id": "QqpqlWALymHq",
        "colab_type": "text"
      },
      "source": [
        "### **Поиск контуров:** \n",
        "\n",
        "На вход получаем:\n",
        "\n",
        "*   Массив вершин\n",
        "\n",
        "Результат работы: массив со всеми координатами полученного контура"
      ]
    },
    {
      "cell_type": "code",
      "metadata": {
        "id": "sAYO0iFGyfSb",
        "colab_type": "code",
        "colab": {}
      },
      "source": [
        "def get_contours(edged):\n",
        "  return cv2.findContours(edged, cv2.RETR_EXTERNAL, cv2.CHAIN_APPROX_SIMPLE)[-2:]"
      ],
      "execution_count": 0,
      "outputs": []
    },
    {
      "cell_type": "code",
      "metadata": {
        "id": "1ozYbskdzYZI",
        "colab_type": "code",
        "outputId": "10da7940-95c3-4ee8-c112-cdc610a37485",
        "colab": {
          "base_uri": "https://localhost:8080/",
          "height": 269
        }
      },
      "source": [
        "image = cv2.imread('3.jpg')\n",
        "\n",
        "edged = define_edged(image, 30, 200)\n",
        "contours, hierarchy = get_contours(edged)\n",
        "\n",
        "image[::] = 255\n",
        "cv2.drawContours(image, contours, -1, (0, 255, 0), 3) \n",
        "\n",
        "plt.imshow(image)\n",
        "plt.show()"
      ],
      "execution_count": 0,
      "outputs": [
        {
          "output_type": "display_data",
          "data": {
            "image/png": "[encoded data removed]",
            "text/plain": [
              "<Figure size 432x288 with 1 Axes>"
            ]
          },
          "metadata": {
            "tags": []
          }
        }
      ]
    },
    {
      "cell_type": "markdown",
      "metadata": {
        "id": "1A7XlrYGz1Th",
        "colab_type": "text"
      },
      "source": [
        "### **Пример работы:** "
      ]
    },
    {
      "cell_type": "code",
      "metadata": {
        "id": "852aGO_G2qa9",
        "colab_type": "code",
        "outputId": "d15329c4-b1fe-4c0f-80c9-455b461aee75",
        "colab": {
          "base_uri": "https://localhost:8080/",
          "height": 286
        }
      },
      "source": [
        "import cv2\n",
        "import numpy as np\n",
        "from google.colab.patches import cv2_imshow\n",
        "from matplotlib import pyplot as plt\n",
        "\n",
        "\n",
        "img = cv2.imread('3.jpg')\n",
        "gray = cv2.cvtColor(img, cv2.COLOR_BGR2GRAY)\n",
        "gray = np.float32(gray)\n",
        "dst = cv2.cornerHarris(gray, 30, 3, 0.04)\n",
        "ret, dst = cv2.threshold(dst, 0.1*dst.max(), 255, 0)\n",
        "dst = np.uint8(dst)\n",
        "ret, labels, stats, centroids = cv2.connectedComponentsWithStats(dst)\n",
        "criteria = (cv2.TERM_CRITERIA_EPS + cv2.TERM_CRITERIA_MAX_ITER, 100, 0.001)\n",
        "corners = cv2.cornerSubPix(gray, np.float32(centroids), (5,5), (-1,-1), criteria)\n",
        "\n",
        "#for i in range(1, len(corners)):\n",
        "    #print(corners[i])\n",
        "#img[dst>0.1*dst.max()]=[0,0,255]\n",
        "for i in range(1, len(corners)):\n",
        "    #print(corners[i,0])\n",
        "    cv2.circle(img, (int(corners[i,0]), int(corners[i,1])), 20, (0,255,0), 3)\n",
        "plt.imshow(img)\n",
        "cv2.waitKey(0)"
      ],
      "execution_count": 0,
      "outputs": [
        {
          "output_type": "execute_result",
          "data": {
            "text/plain": [
              "<function destroyAllWindows>"
            ]
          },
          "metadata": {
            "tags": []
          },
          "execution_count": 74
        },
        {
          "output_type": "display_data",
          "data": {
            "image/png": "[encoded data removed]",
            "text/plain": [
              "<Figure size 432x288 with 1 Axes>"
            ]
          },
          "metadata": {
            "tags": []
          }
        }
      ]
    }
  ]
}